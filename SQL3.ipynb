{
 "cells": [
  {
   "cell_type": "raw",
   "id": "012f8b1e",
   "metadata": {},
   "source": [
    "Q-1. Write an SQL query to print the FIRST_NAME from Worker table after removing\n",
    "white spaces from the right side.\n",
    "ANS-  Select RTRIM(FIRST_NAME) from Worker;"
   ]
  },
  {
   "cell_type": "raw",
   "id": "72688753",
   "metadata": {},
   "source": [
    "Q-2. Write an SQL query that fetches the unique values of DEPARTMENT from Worker\n",
    "table and prints its length.\n",
    "ANS- Select distinct length(DEPARTMENT) from Worker;"
   ]
  },
  {
   "cell_type": "code",
   "execution_count": null,
   "id": "0a2f1207",
   "metadata": {},
   "outputs": [],
   "source": [
    "Q-3. Write an SQL query to fetch nth max salaries from a table.\n",
    "ANS- SELECT Salary FROM Worker ORDER BY Salary DESC LIMIT n-1,1;"
   ]
  }
 ],
 "metadata": {
  "kernelspec": {
   "display_name": "Python 3 (ipykernel)",
   "language": "python",
   "name": "python3"
  },
  "language_info": {
   "codemirror_mode": {
    "name": "ipython",
    "version": 3
   },
   "file_extension": ".py",
   "mimetype": "text/x-python",
   "name": "python",
   "nbconvert_exporter": "python",
   "pygments_lexer": "ipython3",
   "version": "3.9.7"
  }
 },
 "nbformat": 4,
 "nbformat_minor": 5
}
